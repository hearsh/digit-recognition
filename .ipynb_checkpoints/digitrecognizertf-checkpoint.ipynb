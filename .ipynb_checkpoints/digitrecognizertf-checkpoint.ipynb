{
 "cells": [
  {
   "cell_type": "code",
   "execution_count": 21,
   "metadata": {},
   "outputs": [],
   "source": [
    "import pandas as pd\n",
    "import numpy as np\n",
    "np.random.seed(2)\n",
    "from sklearn.model_selection import train_test_split\n",
    "\n",
    "import keras\n",
    "from keras.models import Sequential\n",
    "from keras.layers import Dense, Dropout\n",
    "from keras.layers import Flatten,  MaxPooling2D, Conv2D\n",
    "from keras.callbacks import TensorBoard\n",
    "from keras.utils.np_utils import to_categorical\n",
    "from keras.models import Sequential\n",
    "from keras.optimizers import RMSprop\n",
    "from keras.preprocessing.image import ImageDataGenerator\n",
    "from keras.callbacks import ReduceLROnPlateau"
   ]
  },
  {
   "cell_type": "code",
   "execution_count": 22,
   "metadata": {},
   "outputs": [],
   "source": [
    "train = pd.read_csv(\"data/train.csv\")\n",
    "test = pd.read_csv(\"data/test.csv\")"
   ]
  },
  {
   "cell_type": "code",
   "execution_count": 23,
   "metadata": {},
   "outputs": [],
   "source": [
    "Y_train = train[\"label\"]\n",
    "X_train = train.drop(labels = [\"label\"],axis = 1)\n",
    "del train \n",
    "n_classes=10"
   ]
  },
  {
   "cell_type": "code",
   "execution_count": 24,
   "metadata": {},
   "outputs": [],
   "source": [
    "X_train = X_train / 255.0\n",
    "test = test / 255.0"
   ]
  },
  {
   "cell_type": "code",
   "execution_count": 25,
   "metadata": {},
   "outputs": [],
   "source": [
    "X_train = X_train.values.reshape(-1,28,28,1)\n",
    "test = test.values.reshape(-1,28,28,1)\n",
    "Y_train = to_categorical(Y_train, num_classes = n_classes)\n",
    "random_seed=2\n",
    "X_train, X_val, Y_train, Y_val = train_test_split(X_train, Y_train, test_size = 0.1, random_state=random_seed)"
   ]
  },
  {
   "cell_type": "code",
   "execution_count": 30,
   "metadata": {},
   "outputs": [],
   "source": [
    "model = Sequential()\n",
    "model.add(Conv2D(32, kernel_size=(3,3), activation='relu', input_shape=(28,28,1)) )\n",
    "model.add(Conv2D(64, kernel_size=(3,3), activation='relu'))\n",
    "model.add(MaxPooling2D(pool_size=(2,2)))\n",
    "model.add(Dropout(0.25))\n",
    "model.add(Flatten())          \n",
    "model.add(Dense(256, activation='relu'))\n",
    "model.add(Dropout(0.5))\n",
    "model.add(Dense(n_classes, activation='softmax'))"
   ]
  },
  {
   "cell_type": "code",
   "execution_count": 31,
   "metadata": {},
   "outputs": [],
   "source": [
    "model.compile(loss='categorical_crossentropy', optimizer='adam', metrics=['accuracy'])"
   ]
  },
  {
   "cell_type": "code",
   "execution_count": 32,
   "metadata": {},
   "outputs": [],
   "source": [
    "tensor_board = TensorBoard('./logs/LeNet-MNIST-1')"
   ]
  },
  {
   "cell_type": "code",
   "execution_count": 37,
   "metadata": {},
   "outputs": [
    {
     "name": "stdout",
     "output_type": "stream",
     "text": [
      "Train on 37800 samples, validate on 4200 samples\n",
      "Epoch 1/15\n",
      "37800/37800 [==============================] - 20s 517us/step - loss: 0.0794 - acc: 0.9761 - val_loss: 0.0470 - val_acc: 0.9852\n",
      "Epoch 2/15\n",
      "37800/37800 [==============================] - 29s 757us/step - loss: 0.0544 - acc: 0.9835 - val_loss: 0.0444 - val_acc: 0.9871\n",
      "Epoch 3/15\n",
      "37800/37800 [==============================] - 43s 1ms/step - loss: 0.0442 - acc: 0.9855 - val_loss: 0.0493 - val_acc: 0.9869\n",
      "Epoch 4/15\n",
      "37800/37800 [==============================] - 42s 1ms/step - loss: 0.0367 - acc: 0.9882 - val_loss: 0.0415 - val_acc: 0.9874\n",
      "Epoch 5/15\n",
      "37800/37800 [==============================] - 42s 1ms/step - loss: 0.0310 - acc: 0.9896 - val_loss: 0.0383 - val_acc: 0.9905\n",
      "Epoch 6/15\n",
      "37800/37800 [==============================] - 42s 1ms/step - loss: 0.0266 - acc: 0.9913 - val_loss: 0.0500 - val_acc: 0.9881\n",
      "Epoch 7/15\n",
      "37800/37800 [==============================] - 42s 1ms/step - loss: 0.0244 - acc: 0.9925 - val_loss: 0.0377 - val_acc: 0.9900\n",
      "Epoch 8/15\n",
      "37800/37800 [==============================] - 42s 1ms/step - loss: 0.0211 - acc: 0.9931 - val_loss: 0.0455 - val_acc: 0.9893\n",
      "Epoch 9/15\n",
      "37800/37800 [==============================] - 42s 1ms/step - loss: 0.0202 - acc: 0.9929 - val_loss: 0.0397 - val_acc: 0.9890\n",
      "Epoch 10/15\n",
      "37800/37800 [==============================] - 42s 1ms/step - loss: 0.0187 - acc: 0.9933 - val_loss: 0.0377 - val_acc: 0.9893\n",
      "Epoch 11/15\n",
      "37800/37800 [==============================] - 43s 1ms/step - loss: 0.0152 - acc: 0.9951 - val_loss: 0.0446 - val_acc: 0.9907\n",
      "Epoch 12/15\n",
      "37800/37800 [==============================] - 43s 1ms/step - loss: 0.0157 - acc: 0.9945 - val_loss: 0.0404 - val_acc: 0.9907\n",
      "Epoch 13/15\n",
      "37800/37800 [==============================] - 43s 1ms/step - loss: 0.0128 - acc: 0.9958 - val_loss: 0.0516 - val_acc: 0.9888\n",
      "Epoch 14/15\n",
      "37800/37800 [==============================] - 44s 1ms/step - loss: 0.0145 - acc: 0.9952 - val_loss: 0.0386 - val_acc: 0.9926\n",
      "Epoch 15/15\n",
      "37800/37800 [==============================] - 79s 2ms/step - loss: 0.0122 - acc: 0.9960 - val_loss: 0.0380 - val_acc: 0.9917\n"
     ]
    },
    {
     "data": {
      "text/plain": [
       "<keras.callbacks.History at 0x26d28326f28>"
      ]
     },
     "execution_count": 37,
     "metadata": {},
     "output_type": "execute_result"
    }
   ],
   "source": [
    "model.fit(X_train, Y_train, batch_size=86, epochs=15, verbose=1,validation_data=(X_val,Y_val), callbacks=[tensor_board])"
   ]
  },
  {
   "cell_type": "code",
   "execution_count": 38,
   "metadata": {},
   "outputs": [],
   "source": [
    "results = model.predict(test)\n",
    "results = np.argmax(results,axis = 1)\n",
    "results = pd.Series(results,name=\"Label\")"
   ]
  },
  {
   "cell_type": "code",
   "execution_count": 39,
   "metadata": {},
   "outputs": [],
   "source": [
    "submission = pd.concat([pd.Series(range(1,28001),name = \"ImageId\"),results],axis = 1)\n",
    "submission.to_csv(\"cnn_mnist_datagen.csv\",index=False)"
   ]
  }
 ],
 "metadata": {
  "kernelspec": {
   "display_name": "TensorFlow-GPU",
   "language": "python",
   "name": "tf-gpu"
  },
  "language_info": {
   "codemirror_mode": {
    "name": "ipython",
    "version": 3
   },
   "file_extension": ".py",
   "mimetype": "text/x-python",
   "name": "python",
   "nbconvert_exporter": "python",
   "pygments_lexer": "ipython3",
   "version": "3.6.7"
  }
 },
 "nbformat": 4,
 "nbformat_minor": 2
}
